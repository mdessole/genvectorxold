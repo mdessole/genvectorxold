{
 "cells": [
  {
   "cell_type": "code",
   "execution_count": 1,
   "id": "9cfe4b71",
   "metadata": {},
   "outputs": [],
   "source": [
    "import subprocess\n",
    "from array import array"
   ]
  },
  {
   "cell_type": "code",
   "execution_count": 2,
   "id": "3286bf69",
   "metadata": {},
   "outputs": [
    {
     "name": "stdout",
     "output_type": "stream",
     "text": [
      "Welcome to JupyROOT 6.29/01\n"
     ]
    }
   ],
   "source": [
    "import ROOT"
   ]
  },
  {
   "cell_type": "code",
   "execution_count": 3,
   "id": "0f1fa350",
   "metadata": {},
   "outputs": [
    {
     "name": "stdout",
     "output_type": "stream",
     "text": [
      "plots.ipynb\r\n"
     ]
    }
   ],
   "source": [
    "!ls"
   ]
  },
  {
   "cell_type": "code",
   "execution_count": 4,
   "id": "26d17c23",
   "metadata": {},
   "outputs": [],
   "source": [
    "N = 200000\n",
    "b = 128 "
   ]
  },
  {
   "cell_type": "code",
   "execution_count": 7,
   "id": "dcb552ef",
   "metadata": {},
   "outputs": [],
   "source": [
    "%%capture output\n",
    "!./InvariantMassSYCL $N $b $0"
   ]
  },
  {
   "cell_type": "code",
   "execution_count": 8,
   "id": "9ccff2cf",
   "metadata": {},
   "outputs": [
    {
     "name": "stdout",
     "output_type": "stream",
     "text": [
      "N: 200000, local_size: 128, embed_computation: 0\r\n",
      "\u001b[;35m[hipSYCL Warning] \u001b[0mOpenCL device NVIDIA GeForce RTX 3060 does not have a valid USM provider. Memory allocations are not possible on that device.\r\n",
      "sycl time 0.10979\r\n",
      "sycl time 0.00602198\r\n",
      "sycl time 0.00342607\r\n"
     ]
    }
   ],
   "source": [
    "output.show()"
   ]
  },
  {
   "cell_type": "code",
   "execution_count": 4,
   "id": "6806856f",
   "metadata": {},
   "outputs": [],
   "source": [
    "sizes = array('d',[100000,1000000,5000000,10000000, 50000000,100000000]) #10,100,1000,10000,100000,\n",
    "n = len(sizes)"
   ]
  },
  {
   "cell_type": "code",
   "execution_count": 5,
   "id": "bc0de890",
   "metadata": {},
   "outputs": [],
   "source": [
    "builddir = '/home/mdessole/Project/ROOT/genvectorx/build_oneapi/'"
   ]
  },
  {
   "cell_type": "code",
   "execution_count": 8,
   "id": "42b02381",
   "metadata": {},
   "outputs": [
    {
     "ename": "FileNotFoundError",
     "evalue": "[Errno 2] No such file or directory: '/home/mdessole/Project/ROOT/genvectorx/build_oneapitextx/RVec'",
     "output_type": "error",
     "traceback": [
      "\u001b[0;31m---------------------------------------------------------------------------\u001b[0m",
      "\u001b[0;31mFileNotFoundError\u001b[0m                         Traceback (most recent call last)",
      "Cell \u001b[0;32mIn[8], line 3\u001b[0m\n\u001b[1;32m      1\u001b[0m timecpu \u001b[38;5;241m=\u001b[39m array( \u001b[38;5;124m'\u001b[39m\u001b[38;5;124md\u001b[39m\u001b[38;5;124m'\u001b[39m )\n\u001b[1;32m      2\u001b[0m \u001b[38;5;28;01mfor\u001b[39;00m N \u001b[38;5;129;01min\u001b[39;00m sizes:\n\u001b[0;32m----> 3\u001b[0m     result \u001b[38;5;241m=\u001b[39m \u001b[43msubprocess\u001b[49m\u001b[38;5;241;43m.\u001b[39;49m\u001b[43mrun\u001b[49m\u001b[43m(\u001b[49m\u001b[43m[\u001b[49m\u001b[43mbuilddir\u001b[49m\u001b[38;5;241;43m+\u001b[39;49m\u001b[38;5;124;43m'\u001b[39;49m\u001b[38;5;124;43mtextx/RVec\u001b[39;49m\u001b[38;5;124;43m'\u001b[39;49m\u001b[43m,\u001b[49m\u001b[43m \u001b[49m\u001b[38;5;28;43mstr\u001b[39;49m\u001b[43m(\u001b[49m\u001b[38;5;28;43mint\u001b[39;49m\u001b[43m(\u001b[49m\u001b[43mN\u001b[49m\u001b[43m)\u001b[49m\u001b[43m)\u001b[49m\u001b[43m \u001b[49m\u001b[43m]\u001b[49m\u001b[43m,\u001b[49m\u001b[43m \u001b[49m\u001b[43mstdout\u001b[49m\u001b[38;5;241;43m=\u001b[39;49m\u001b[43msubprocess\u001b[49m\u001b[38;5;241;43m.\u001b[39;49m\u001b[43mPIPE\u001b[49m\u001b[43m)\u001b[49m\u001b[38;5;241m.\u001b[39mstdout\u001b[38;5;241m.\u001b[39mdecode(\u001b[38;5;124m'\u001b[39m\u001b[38;5;124mutf-8\u001b[39m\u001b[38;5;124m'\u001b[39m)\n\u001b[1;32m      4\u001b[0m     result \u001b[38;5;241m=\u001b[39m result\u001b[38;5;241m.\u001b[39mreplace(\u001b[38;5;124m\"\u001b[39m\u001b[38;5;130;01m\\r\u001b[39;00m\u001b[38;5;124m\"\u001b[39m,\u001b[38;5;124m\"\u001b[39m\u001b[38;5;124m\"\u001b[39m)\u001b[38;5;241m.\u001b[39mreplace(\u001b[38;5;124m\"\u001b[39m\u001b[38;5;130;01m\\n\u001b[39;00m\u001b[38;5;124m\"\u001b[39m,\u001b[38;5;124m\"\u001b[39m\u001b[38;5;124m\"\u001b[39m)\n\u001b[1;32m      5\u001b[0m     i \u001b[38;5;241m=\u001b[39m result\u001b[38;5;241m.\u001b[39mfind(\u001b[38;5;124m\"\u001b[39m\u001b[38;5;124mtime\u001b[39m\u001b[38;5;124m\"\u001b[39m)\n",
      "File \u001b[0;32m/usr/lib/python3.10/subprocess.py:503\u001b[0m, in \u001b[0;36mrun\u001b[0;34m(input, capture_output, timeout, check, *popenargs, **kwargs)\u001b[0m\n\u001b[1;32m    500\u001b[0m     kwargs[\u001b[38;5;124m'\u001b[39m\u001b[38;5;124mstdout\u001b[39m\u001b[38;5;124m'\u001b[39m] \u001b[38;5;241m=\u001b[39m PIPE\n\u001b[1;32m    501\u001b[0m     kwargs[\u001b[38;5;124m'\u001b[39m\u001b[38;5;124mstderr\u001b[39m\u001b[38;5;124m'\u001b[39m] \u001b[38;5;241m=\u001b[39m PIPE\n\u001b[0;32m--> 503\u001b[0m \u001b[38;5;28;01mwith\u001b[39;00m \u001b[43mPopen\u001b[49m\u001b[43m(\u001b[49m\u001b[38;5;241;43m*\u001b[39;49m\u001b[43mpopenargs\u001b[49m\u001b[43m,\u001b[49m\u001b[43m \u001b[49m\u001b[38;5;241;43m*\u001b[39;49m\u001b[38;5;241;43m*\u001b[39;49m\u001b[43mkwargs\u001b[49m\u001b[43m)\u001b[49m \u001b[38;5;28;01mas\u001b[39;00m process:\n\u001b[1;32m    504\u001b[0m     \u001b[38;5;28;01mtry\u001b[39;00m:\n\u001b[1;32m    505\u001b[0m         stdout, stderr \u001b[38;5;241m=\u001b[39m process\u001b[38;5;241m.\u001b[39mcommunicate(\u001b[38;5;28minput\u001b[39m, timeout\u001b[38;5;241m=\u001b[39mtimeout)\n",
      "File \u001b[0;32m/usr/lib/python3.10/subprocess.py:971\u001b[0m, in \u001b[0;36mPopen.__init__\u001b[0;34m(self, args, bufsize, executable, stdin, stdout, stderr, preexec_fn, close_fds, shell, cwd, env, universal_newlines, startupinfo, creationflags, restore_signals, start_new_session, pass_fds, user, group, extra_groups, encoding, errors, text, umask, pipesize)\u001b[0m\n\u001b[1;32m    967\u001b[0m         \u001b[38;5;28;01mif\u001b[39;00m \u001b[38;5;28mself\u001b[39m\u001b[38;5;241m.\u001b[39mtext_mode:\n\u001b[1;32m    968\u001b[0m             \u001b[38;5;28mself\u001b[39m\u001b[38;5;241m.\u001b[39mstderr \u001b[38;5;241m=\u001b[39m io\u001b[38;5;241m.\u001b[39mTextIOWrapper(\u001b[38;5;28mself\u001b[39m\u001b[38;5;241m.\u001b[39mstderr,\n\u001b[1;32m    969\u001b[0m                     encoding\u001b[38;5;241m=\u001b[39mencoding, errors\u001b[38;5;241m=\u001b[39merrors)\n\u001b[0;32m--> 971\u001b[0m     \u001b[38;5;28;43mself\u001b[39;49m\u001b[38;5;241;43m.\u001b[39;49m\u001b[43m_execute_child\u001b[49m\u001b[43m(\u001b[49m\u001b[43margs\u001b[49m\u001b[43m,\u001b[49m\u001b[43m \u001b[49m\u001b[43mexecutable\u001b[49m\u001b[43m,\u001b[49m\u001b[43m \u001b[49m\u001b[43mpreexec_fn\u001b[49m\u001b[43m,\u001b[49m\u001b[43m \u001b[49m\u001b[43mclose_fds\u001b[49m\u001b[43m,\u001b[49m\n\u001b[1;32m    972\u001b[0m \u001b[43m                        \u001b[49m\u001b[43mpass_fds\u001b[49m\u001b[43m,\u001b[49m\u001b[43m \u001b[49m\u001b[43mcwd\u001b[49m\u001b[43m,\u001b[49m\u001b[43m \u001b[49m\u001b[43menv\u001b[49m\u001b[43m,\u001b[49m\n\u001b[1;32m    973\u001b[0m \u001b[43m                        \u001b[49m\u001b[43mstartupinfo\u001b[49m\u001b[43m,\u001b[49m\u001b[43m \u001b[49m\u001b[43mcreationflags\u001b[49m\u001b[43m,\u001b[49m\u001b[43m \u001b[49m\u001b[43mshell\u001b[49m\u001b[43m,\u001b[49m\n\u001b[1;32m    974\u001b[0m \u001b[43m                        \u001b[49m\u001b[43mp2cread\u001b[49m\u001b[43m,\u001b[49m\u001b[43m \u001b[49m\u001b[43mp2cwrite\u001b[49m\u001b[43m,\u001b[49m\n\u001b[1;32m    975\u001b[0m \u001b[43m                        \u001b[49m\u001b[43mc2pread\u001b[49m\u001b[43m,\u001b[49m\u001b[43m \u001b[49m\u001b[43mc2pwrite\u001b[49m\u001b[43m,\u001b[49m\n\u001b[1;32m    976\u001b[0m \u001b[43m                        \u001b[49m\u001b[43merrread\u001b[49m\u001b[43m,\u001b[49m\u001b[43m \u001b[49m\u001b[43merrwrite\u001b[49m\u001b[43m,\u001b[49m\n\u001b[1;32m    977\u001b[0m \u001b[43m                        \u001b[49m\u001b[43mrestore_signals\u001b[49m\u001b[43m,\u001b[49m\n\u001b[1;32m    978\u001b[0m \u001b[43m                        \u001b[49m\u001b[43mgid\u001b[49m\u001b[43m,\u001b[49m\u001b[43m \u001b[49m\u001b[43mgids\u001b[49m\u001b[43m,\u001b[49m\u001b[43m \u001b[49m\u001b[43muid\u001b[49m\u001b[43m,\u001b[49m\u001b[43m \u001b[49m\u001b[43mumask\u001b[49m\u001b[43m,\u001b[49m\n\u001b[1;32m    979\u001b[0m \u001b[43m                        \u001b[49m\u001b[43mstart_new_session\u001b[49m\u001b[43m)\u001b[49m\n\u001b[1;32m    980\u001b[0m \u001b[38;5;28;01mexcept\u001b[39;00m:\n\u001b[1;32m    981\u001b[0m     \u001b[38;5;66;03m# Cleanup if the child failed starting.\u001b[39;00m\n\u001b[1;32m    982\u001b[0m     \u001b[38;5;28;01mfor\u001b[39;00m f \u001b[38;5;129;01min\u001b[39;00m \u001b[38;5;28mfilter\u001b[39m(\u001b[38;5;28;01mNone\u001b[39;00m, (\u001b[38;5;28mself\u001b[39m\u001b[38;5;241m.\u001b[39mstdin, \u001b[38;5;28mself\u001b[39m\u001b[38;5;241m.\u001b[39mstdout, \u001b[38;5;28mself\u001b[39m\u001b[38;5;241m.\u001b[39mstderr)):\n",
      "File \u001b[0;32m/usr/lib/python3.10/subprocess.py:1863\u001b[0m, in \u001b[0;36mPopen._execute_child\u001b[0;34m(self, args, executable, preexec_fn, close_fds, pass_fds, cwd, env, startupinfo, creationflags, shell, p2cread, p2cwrite, c2pread, c2pwrite, errread, errwrite, restore_signals, gid, gids, uid, umask, start_new_session)\u001b[0m\n\u001b[1;32m   1861\u001b[0m     \u001b[38;5;28;01mif\u001b[39;00m errno_num \u001b[38;5;241m!=\u001b[39m \u001b[38;5;241m0\u001b[39m:\n\u001b[1;32m   1862\u001b[0m         err_msg \u001b[38;5;241m=\u001b[39m os\u001b[38;5;241m.\u001b[39mstrerror(errno_num)\n\u001b[0;32m-> 1863\u001b[0m     \u001b[38;5;28;01mraise\u001b[39;00m child_exception_type(errno_num, err_msg, err_filename)\n\u001b[1;32m   1864\u001b[0m \u001b[38;5;28;01mraise\u001b[39;00m child_exception_type(err_msg)\n",
      "\u001b[0;31mFileNotFoundError\u001b[0m: [Errno 2] No such file or directory: '/home/mdessole/Project/ROOT/genvectorx/build_oneapitextx/RVec'"
     ]
    }
   ],
   "source": [
    "timecpu = array( 'd' )\n",
    "for N in sizes:\n",
    "    result = subprocess.run([builddir+'textx/RVec', str(int(N)) ], stdout=subprocess.PIPE).stdout.decode('utf-8')\n",
    "    result = result.replace(\"\\r\",\"\").replace(\"\\n\",\"\")\n",
    "    i = result.find(\"time\")\n",
    "    timecpu.append(float(result[i+5:-1]))"
   ]
  },
  {
   "cell_type": "code",
   "execution_count": 65,
   "id": "0b776602",
   "metadata": {},
   "outputs": [],
   "source": [
    "timecuda = array( 'd' )\n",
    "for N in sizes:\n",
    "    result = subprocess.run(['./InvariantMassCUDA128', str(int(N))], stdout=subprocess.PIPE).stdout.decode('utf-8')\n",
    "    result = result.replace(\"\\r\",\"\").replace(\"\\n\",\"\")\n",
    "    i = result.find(\"time\")\n",
    "    timecuda.append(float(result[i+5:-1]))"
   ]
  },
  {
   "cell_type": "code",
   "execution_count": 66,
   "id": "09868813",
   "metadata": {},
   "outputs": [],
   "source": [
    "embed_computation = 0"
   ]
  },
  {
   "cell_type": "code",
   "execution_count": 67,
   "id": "754569bd",
   "metadata": {},
   "outputs": [],
   "source": [
    "timesycl = array( 'd' )\n",
    "for N in sizes:\n",
    "    result = subprocess.run(['./InvariantMassSYCL', str(int(N)), str(b), str(embed_computation)], stdout=subprocess.PIPE).stdout.decode('utf-8')\n",
    "    result = result.replace(\"\\r\",\"\").replace(\"\\n\",\"\")\n",
    "    i = result.find(\"time\")\n",
    "    timesycl.append(float(result[i+5:-1]))"
   ]
  },
  {
   "cell_type": "code",
   "execution_count": 68,
   "id": "95635657",
   "metadata": {},
   "outputs": [],
   "source": [
    "timesyclplain = array( 'd' )\n",
    "for N in sizes:\n",
    "    result = subprocess.run(['./InvariantMassSYCL_plain', str(int(N)), str(b), str(embed_computation)], stdout=subprocess.PIPE).stdout.decode('utf-8')\n",
    "    result = result.replace(\"\\r\",\"\").replace(\"\\n\",\"\")\n",
    "    i = result.find(\"time\")\n",
    "    timesyclplain.append(float(result[i+5:-1]))"
   ]
  },
  {
   "cell_type": "code",
   "execution_count": 69,
   "id": "85426fcd",
   "metadata": {},
   "outputs": [],
   "source": [
    "speedupsycl128 = array('d', [timecpu[i]/timesycl[i] for i in range(n)])\n",
    "speedupcuda128 = array('d', [timecpu[i]/timecuda[i] for i in range(n)])\n",
    "speedupsyclplain = array('d', [timecpu[i]/timesyclplain[i] for i in range(n)])"
   ]
  },
  {
   "cell_type": "code",
   "execution_count": 12,
   "id": "165a27f9",
   "metadata": {},
   "outputs": [
    {
     "data": {
      "text/plain": [
       "array('d', [0.0032, 0.032, 0.16, 0.32, 1.6, 3.2])"
      ]
     },
     "execution_count": 12,
     "metadata": {},
     "output_type": "execute_result"
    }
   ],
   "source": [
    "val = list(sizes)\n",
    "sizes_gb = [v*8*4/1e9 for v in val]\n",
    "sizes_gb = array('d', sizes_gb)\n",
    "sizes_gb"
   ]
  },
  {
   "cell_type": "code",
   "execution_count": 70,
   "id": "1e93cd2d",
   "metadata": {},
   "outputs": [
    {
     "name": "stderr",
     "output_type": "stream",
     "text": [
      "Info in <TCanvas::Print>: png file block256_embed0.png has been created\n"
     ]
    },
    {
     "data": {
      "image/png": "[encoded data removed]",
      "text/plain": [
       "<IPython.core.display.Image object>"
      ]
     },
     "metadata": {},
     "output_type": "display_data"
    }
   ],
   "source": [
    "g = ROOT.TGraph(len(sizes), sizes_gb, speedupsycl128)\n",
    "p = ROOT.TGraph(len(sizes), sizes_gb, speedupcuda128)\n",
    "q = ROOT.TGraph(len(sizes), sizes_gb, speedupsyclplain)\n",
    "\n",
    "#g.AddPoint(sizes, timecpu)\n",
    "\n",
    "c4 = ROOT.TCanvas()\n",
    "g.SetMarkerStyle(7)\n",
    "g.SetLineColor(ROOT.kBlue)\n",
    "p.SetMarkerStyle(5)\n",
    "p.SetLineColor(ROOT.kRed)\n",
    "q.SetMarkerStyle(6)\n",
    "q.SetLineColor(ROOT.kGreen)\n",
    "\n",
    "\n",
    "\n",
    "p.SetTitle(\"\")\n",
    "p.GetXaxis().SetTitle( 'Input size (GB)' )\n",
    "p.GetYaxis().SetTitle( 'Speedup x' )\n",
    "\n",
    "p.GetYaxis().SetRangeUser(0,6)\n",
    "\n",
    "leg = ROOT.TLegend(0.7, 0.75, 0.90, 0.87)\n",
    "leg.AddEntry(p,\"CUDA\",\"L\")\n",
    "leg.AddEntry(g,\"SYCL Lorentz Vec\",\"L\")\n",
    "leg.AddEntry(q,\"SYCL\",\"l\")\n",
    "\n",
    "\n",
    "c4.SetLogx();\n",
    "\n",
    "p.Draw()\n",
    "g.Draw('LP')\n",
    "q.Draw('LP')\n",
    "leg.Draw()\n",
    "c4.Draw()\n",
    "\n",
    "c4.SaveAs(\"block\"+str(b)+\"_embed\"+str(embed_computation)+\".png\")"
   ]
  },
  {
   "cell_type": "code",
   "execution_count": 71,
   "id": "61653268",
   "metadata": {},
   "outputs": [],
   "source": [
    "b = 256\n",
    "\n",
    "timesycl = array( 'd' )\n",
    "for N in sizes:\n",
    "    result = subprocess.run(['./InvariantMassSYCL', str(int(N)), str(int(b)), str(embed_computation)], stdout=subprocess.PIPE).stdout.decode('utf-8')\n",
    "    result = result.replace(\"\\r\",\"\").replace(\"\\n\",\"\")\n",
    "    i = result.find(\"time\")\n",
    "    timesycl.append(float(result[i+5:-1]))"
   ]
  },
  {
   "cell_type": "code",
   "execution_count": 72,
   "id": "84563f70",
   "metadata": {},
   "outputs": [],
   "source": [
    "b = 256\n",
    "\n",
    "timesyclplain = array( 'd' )\n",
    "for N in sizes:\n",
    "    result = subprocess.run(['./InvariantMassSYCL_plain', str(int(N)), str(int(b)), str(embed_computation)], stdout=subprocess.PIPE).stdout.decode('utf-8')\n",
    "    result = result.replace(\"\\r\",\"\").replace(\"\\n\",\"\")\n",
    "    i = result.find(\"time\")\n",
    "    timesyclplain.append(float(result[i+5:-1]))"
   ]
  },
  {
   "cell_type": "code",
   "execution_count": 73,
   "id": "fef0c4e4",
   "metadata": {},
   "outputs": [],
   "source": [
    "timecuda = array( 'd' )\n",
    "for N in sizes:\n",
    "    result = subprocess.run(['./InvariantMassCUDA256', str(int(N))], stdout=subprocess.PIPE).stdout.decode('utf-8')\n",
    "    result = result.replace(\"\\r\",\"\").replace(\"\\n\",\"\")\n",
    "    i = result.find(\"time\")\n",
    "    timecuda.append(float(result[i+5:-1]))"
   ]
  },
  {
   "cell_type": "code",
   "execution_count": 74,
   "id": "41e5394b",
   "metadata": {},
   "outputs": [],
   "source": [
    "speedupsycl256 = array('d', [timecpu[i]/timesycl[i] for i in range(n)])\n",
    "speedupsyclplain256 = array('d', [timecpu[i]/timesyclplain[i] for i in range(n)])\n",
    "speedupcuda256 = array('d', [timecpu[i]/timecuda[i] for i in range(n)])"
   ]
  },
  {
   "cell_type": "code",
   "execution_count": 75,
   "id": "a099c967",
   "metadata": {
    "scrolled": true
   },
   "outputs": [
    {
     "name": "stderr",
     "output_type": "stream",
     "text": [
      "Info in <TCanvas::Print>: png file block256_embed0.png has been created\n"
     ]
    },
    {
     "data": {
      "image/png": "[encoded data removed]",
      "text/plain": [
       "<IPython.core.display.Image object>"
      ]
     },
     "metadata": {},
     "output_type": "display_data"
    }
   ],
   "source": [
    "g = ROOT.TGraph(len(sizes), sizes_gb, speedupsycl256)\n",
    "p = ROOT.TGraph(len(sizes), sizes_gb, speedupcuda256)\n",
    "q = ROOT.TGraph(len(sizes), sizes_gb, speedupsyclplain256)\n",
    "\n",
    "#g.AddPoint(sizes, timecpu)\n",
    "\n",
    "c4 = ROOT.TCanvas()\n",
    "g.SetMarkerStyle(7)\n",
    "g.SetLineColor(ROOT.kBlue)\n",
    "p.SetMarkerStyle(5)\n",
    "p.SetLineColor(ROOT.kRed)\n",
    "q.SetMarkerStyle(6)\n",
    "q.SetLineColor(ROOT.kGreen)\n",
    "\n",
    "\n",
    "\n",
    "p.SetTitle(\"\")\n",
    "p.GetXaxis().SetTitle( 'Input size (GB)' )\n",
    "p.GetYaxis().SetTitle( 'Speedup x' )\n",
    "\n",
    "p.GetYaxis().SetRangeUser(0,6)\n",
    "\n",
    "leg = ROOT.TLegend(0.7, 0.75, 0.90, 0.87)\n",
    "leg.AddEntry(p,\"CUDA\",\"L\")\n",
    "leg.AddEntry(g,\"SYCL Lorentz Vec\",\"L\")\n",
    "leg.AddEntry(q,\"SYCL\",\"l\")\n",
    "\n",
    "\n",
    "c4.SetLogx();\n",
    "\n",
    "p.Draw()\n",
    "g.Draw('LP')\n",
    "q.Draw('LP')\n",
    "leg.Draw()\n",
    "c4.Draw()\n",
    "\n",
    "c4.SaveAs(\"block\"+str(b)+\"_embed\"+str(embed_computation)+\".png\")"
   ]
  },
  {
   "cell_type": "code",
   "execution_count": 82,
   "id": "d115cf51",
   "metadata": {},
   "outputs": [],
   "source": [
    "embed_computation = 1"
   ]
  },
  {
   "cell_type": "code",
   "execution_count": 83,
   "id": "0ffc044c",
   "metadata": {},
   "outputs": [],
   "source": [
    "b = 512\n",
    "\n",
    "timesycl = array( 'd' )\n",
    "for N in sizes:\n",
    "    result = subprocess.run(['./InvariantMassSYCL', str(int(N)), str(int(b)), str(embed_computation)], stdout=subprocess.PIPE).stdout.decode('utf-8')\n",
    "    result = result.replace(\"\\r\",\"\").replace(\"\\n\",\"\")\n",
    "    i = result.find(\"time\")\n",
    "    timesycl.append(float(result[i+5:-1]))"
   ]
  },
  {
   "cell_type": "code",
   "execution_count": 84,
   "id": "10890ae5",
   "metadata": {},
   "outputs": [],
   "source": [
    "timesyclplain = array( 'd' )\n",
    "for N in sizes:\n",
    "    result = subprocess.run(['./InvariantMassSYCL_plain', str(int(N)), str(int(b)), str(embed_computation)], stdout=subprocess.PIPE).stdout.decode('utf-8')\n",
    "    result = result.replace(\"\\r\",\"\").replace(\"\\n\",\"\")\n",
    "    i = result.find(\"time\")\n",
    "    timesyclplain.append(float(result[i+5:-1]))"
   ]
  },
  {
   "cell_type": "code",
   "execution_count": 85,
   "id": "d2662a39",
   "metadata": {},
   "outputs": [],
   "source": [
    "timecuda = array( 'd' )\n",
    "for N in sizes:\n",
    "    result = subprocess.run(['./InvariantMassCUDA512', str(int(N))], stdout=subprocess.PIPE).stdout.decode('utf-8')\n",
    "    result = result.replace(\"\\r\",\"\").replace(\"\\n\",\"\")\n",
    "    i = result.find(\"time\")\n",
    "    timecuda.append(float(result[i+5:-1]))"
   ]
  },
  {
   "cell_type": "code",
   "execution_count": 86,
   "id": "9a00e952",
   "metadata": {},
   "outputs": [],
   "source": [
    "speedupsycl512 = array('d', [timecpu[i]/timesycl[i] for i in range(n)])\n",
    "speedupsyclplain512 = array('d', [timecpu[i]/timesyclplain[i] for i in range(n)])\n",
    "speedupcuda512 = array('d', [timecpu[i]/timecuda[i] for i in range(n)])"
   ]
  },
  {
   "cell_type": "code",
   "execution_count": 87,
   "id": "ff1d74dd",
   "metadata": {},
   "outputs": [
    {
     "name": "stderr",
     "output_type": "stream",
     "text": [
      "Info in <TCanvas::Print>: png file block512_embed1.png has been created\n"
     ]
    },
    {
     "data": {
      "image/png": "[encoded data removed]",
      "text/plain": [
       "<IPython.core.display.Image object>"
      ]
     },
     "metadata": {},
     "output_type": "display_data"
    }
   ],
   "source": [
    "g = ROOT.TGraph(len(sizes), sizes_gb, speedupsycl512)\n",
    "p = ROOT.TGraph(len(sizes), sizes_gb, speedupcuda512)\n",
    "q = ROOT.TGraph(len(sizes), sizes_gb, speedupsyclplain512)\n",
    "\n",
    "#g.AddPoint(sizes, timecpu)\n",
    "\n",
    "c4 = ROOT.TCanvas()\n",
    "g.SetMarkerStyle(7)\n",
    "g.SetLineColor(ROOT.kBlue)\n",
    "p.SetMarkerStyle(5)\n",
    "p.SetLineColor(ROOT.kRed)\n",
    "q.SetMarkerStyle(6)\n",
    "q.SetLineColor(ROOT.kGreen)\n",
    "\n",
    "\n",
    "\n",
    "p.SetTitle(\"\")\n",
    "p.GetXaxis().SetTitle( 'Input size (GB)' )\n",
    "p.GetYaxis().SetTitle( 'Speedup x' )\n",
    "\n",
    "p.GetYaxis().SetRangeUser(0,6)\n",
    "\n",
    "leg = ROOT.TLegend(0.7, 0.75, 0.90, 0.87)\n",
    "leg.AddEntry(p,\"CUDA\",\"L\")\n",
    "leg.AddEntry(g,\"SYCL Lorentz Vec\",\"L\")\n",
    "leg.AddEntry(q,\"SYCL\",\"l\")\n",
    "\n",
    "\n",
    "c4.SetLogx();\n",
    "\n",
    "p.Draw()\n",
    "g.Draw('LP')\n",
    "q.Draw('LP')\n",
    "leg.Draw()\n",
    "c4.Draw()\n",
    "\n",
    "c4.SaveAs(\"block\"+str(b)+\"_embed\"+str(embed_computation)+\".png\")"
   ]
  },
  {
   "cell_type": "code",
   "execution_count": null,
   "id": "541f7fd1",
   "metadata": {},
   "outputs": [],
   "source": []
  }
 ],
 "metadata": {
  "kernelspec": {
   "display_name": "Python 3 (ipykernel)",
   "language": "python",
   "name": "python3"
  },
  "language_info": {
   "codemirror_mode": {
    "name": "ipython",
    "version": 3
   },
   "file_extension": ".py",
   "mimetype": "text/x-python",
   "name": "python",
   "nbconvert_exporter": "python",
   "pygments_lexer": "ipython3",
   "version": "3.10.12"
  }
 },
 "nbformat": 4,
 "nbformat_minor": 5
}

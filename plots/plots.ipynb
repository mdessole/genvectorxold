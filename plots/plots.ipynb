{
 "cells": [
  {
   "cell_type": "code",
   "execution_count": 1,
   "id": "9cfe4b71",
   "metadata": {},
   "outputs": [
    {
     "name": "stdout",
     "output_type": "stream",
     "text": [
      "Welcome to JupyROOT 6.29/01\n"
     ]
    }
   ],
   "source": [
    "from array import array\n",
    "import subprocess\n",
    "import math\n",
    "import ROOT\n",
    "import os\n",
    "import numpy as np"
   ]
  },
  {
   "cell_type": "code",
   "execution_count": 2,
   "id": "af4d50a3",
   "metadata": {},
   "outputs": [],
   "source": [
    "buildcuda = '/home/mdessole/Projects/ROOT/genvectorx/build_cuda/'"
   ]
  },
  {
   "cell_type": "code",
   "execution_count": 3,
   "id": "26165ee7",
   "metadata": {},
   "outputs": [],
   "source": [
    "buildoneapi = '/home/mdessole/Projects/ROOT/genvectorx/build_oneapi/'"
   ]
  },
  {
   "cell_type": "code",
   "execution_count": 4,
   "id": "bc6d6737",
   "metadata": {},
   "outputs": [],
   "source": [
    "buildopensycl = '/home/mdessole/Projects/ROOT/genvectorx/build_opensycl/'"
   ]
  },
  {
   "cell_type": "code",
   "execution_count": 5,
   "id": "914a1070",
   "metadata": {},
   "outputs": [
    {
     "name": "stdout",
     "output_type": "stream",
     "text": [
      "CMakeFiles  cmake_install.cmake  CoordsOpenSYCL  RVecSYCL\r\n"
     ]
    }
   ],
   "source": [
    "!ls /home/mdessole/Projects/ROOT/genvectorx/build_opensycl/testx"
   ]
  },
  {
   "cell_type": "code",
   "execution_count": 6,
   "id": "a885b1ba",
   "metadata": {},
   "outputs": [
    {
     "name": "stdout",
     "output_type": "stream",
     "text": [
      "CMakeFiles  cmake_install.cmake  CoordsOneAPI  RVecSYCL\r\n"
     ]
    }
   ],
   "source": [
    "!ls /home/mdessole/Projects/ROOT/genvectorx/build_oneapi/testx"
   ]
  },
  {
   "cell_type": "code",
   "execution_count": 7,
   "id": "88892d26",
   "metadata": {},
   "outputs": [
    {
     "name": "stdout",
     "output_type": "stream",
     "text": [
      "/opt/intel/oneapi/tbb/2021.10.0/env/../lib/intel64/gcc4.8:/opt/intel/oneapi/debugger/2023.2.0/gdb/intel64/lib:/opt/intel/oneapi/debugger/2023.2.0/libipt/intel64/lib:/opt/intel/oneapi/debugger/2023.2.0/dep/lib:/opt/intel/oneapi/compiler/2023.2.1/linux/lib:/opt/intel/oneapi/compiler/2023.2.1/linux/lib/x64:/opt/intel/oneapi/compiler/2023.2.1/linux/lib/oclfpga/host/linux64/lib:/opt/intel/oneapi/compiler/2023.2.1/linux/compiler/lib/intel64_lin:/home/mdessole/Projects/sycl-blas/sycl-blas_build/benchmark/googlebench-build/src:/opt/OpenBLAS/lib:/home/mdessole/Projects/sycl-blas/sycl-blas_build/lib:/home/mdessole/Projects/sycl-blas/sycl-blas/lib:/home/mdessole/Projects/OpenSYCL/OpenSYCL_install/lib:/usr/local/cuda-11.8/lib64:/home/mdessole/Projects/ROOT/root/lib\r\n"
     ]
    }
   ],
   "source": [
    "!echo $LD_LIBRARY_PATH"
   ]
  },
  {
   "cell_type": "code",
   "execution_count": 8,
   "id": "e5f70ca0",
   "metadata": {},
   "outputs": [],
   "source": [
    "sizes = array('d',[1000, 10000, 100000,1000000,5000000,10000000, 50000000,100000000]) #10,100,1000,10000,100000,\n",
    "n = len(sizes)"
   ]
  },
  {
   "cell_type": "code",
   "execution_count": 14,
   "id": "7d46c62a",
   "metadata": {},
   "outputs": [],
   "source": [
    "def run_benchmark(builddir, sizes, nruns = 1, btype = 'cpu'):\n",
    "    timeavg = array( 'd' )\n",
    "    timestd = array( 'd' )\n",
    "    \n",
    "    if btype == 'cpu':\n",
    "        exe = os.path.join(builddir,'testx','RVec')\n",
    "    elif btype == 'cuda':\n",
    "        exe = os.path.join(builddir,'testx','RVecCUDA')\n",
    "    elif btype == 'sycl':\n",
    "        exe = os.path.join(builddir,'testx','RVecSYCL')\n",
    "    #endif\n",
    "    \n",
    "    if (not os.path.exists(exe)):\n",
    "        print(\"Executable\", exe, \"not found!\")\n",
    "        return timeavg, timestd\n",
    "    \n",
    "    for i, N in enumerate(sizes):\n",
    "        time = np.zeros(nruns)\n",
    "        for r in range(nruns):\n",
    "            result = subprocess.run([exe, str(int(N)) ], stdout=subprocess.PIPE).stdout.decode('utf-8')\n",
    "            result = result.replace(\"\\r\",\"\").replace(\"\\n\",\"\")\n",
    "            print(result)\n",
    "            i = result.find(\"time\")\n",
    "            j = result.find(\"(s)\")\n",
    "            time[r] = float(result[i+5:j])\n",
    "        #endfor\n",
    "        timeavg.append(np.mean(time))\n",
    "        timestd.append(np.std(time)) \n",
    "    #endfor\n",
    "    return timeavg, timestd"
   ]
  },
  {
   "cell_type": "code",
   "execution_count": 12,
   "id": "42b02381",
   "metadata": {},
   "outputs": [],
   "source": [
    "timecpu, stdcpu = run_benchmark(buildoneapi, sizes, nruns = 3, btype = 'cpu')"
   ]
  },
  {
   "cell_type": "code",
   "execution_count": null,
   "id": "79203124",
   "metadata": {},
   "outputs": [],
   "source": [
    "stdcpu"
   ]
  },
  {
   "cell_type": "code",
   "execution_count": null,
   "id": "ede2be67",
   "metadata": {},
   "outputs": [],
   "source": [
    "timecpu"
   ]
  },
  {
   "cell_type": "code",
   "execution_count": 17,
   "id": "754569bd",
   "metadata": {},
   "outputs": [
    {
     "name": "stdout",
     "output_type": "stream",
     "text": [
      "sycl::queue check - selected device:NVIDIA GeForce RTX 3060sycl time 0.000768 (s)\n",
      "sycl::queue check - selected device:NVIDIA GeForce RTX 3060sycl time 0.000672 (s)\n",
      "sycl::queue check - selected device:NVIDIA GeForce RTX 3060sycl time 0.000676 (s)\n",
      "sycl::queue check - selected device:NVIDIA GeForce RTX 3060sycl time 0.001054 (s)\n",
      "sycl::queue check - selected device:NVIDIA GeForce RTX 3060sycl time 0.00112 (s)\n",
      "sycl::queue check - selected device:NVIDIA GeForce RTX 3060sycl time 0.001268 (s)\n",
      "sycl::queue check - selected device:NVIDIA GeForce RTX 3060sycl time 0.005929 (s)\n",
      "sycl::queue check - selected device:NVIDIA GeForce RTX 3060sycl time 0.006932 (s)\n",
      "sycl::queue check - selected device:NVIDIA GeForce RTX 3060sycl time 0.006022 (s)\n",
      "sycl::queue check - selected device:NVIDIA GeForce RTX 3060sycl time 0.050504 (s)\n",
      "sycl::queue check - selected device:NVIDIA GeForce RTX 3060sycl time 0.050833 (s)\n",
      "sycl::queue check - selected device:NVIDIA GeForce RTX 3060sycl time 0.050318 (s)\n",
      "sycl::queue check - selected device:NVIDIA GeForce RTX 3060sycl time 0.24697 (s)\n",
      "sycl::queue check - selected device:NVIDIA GeForce RTX 3060sycl time 0.251046 (s)\n",
      "sycl::queue check - selected device:NVIDIA GeForce RTX 3060sycl time 0.246489 (s)\n",
      "sycl::queue check - selected device:NVIDIA GeForce RTX 3060sycl time 0.475203 (s)\n",
      "sycl::queue check - selected device:NVIDIA GeForce RTX 3060sycl time 0.474824 (s)\n",
      "sycl::queue check - selected device:NVIDIA GeForce RTX 3060sycl time 0.471953 (s)\n",
      "sycl::queue check - selected device:NVIDIA GeForce RTX 3060sycl time 2.24229 (s)\n",
      "sycl::queue check - selected device:NVIDIA GeForce RTX 3060sycl time 2.21543 (s)\n",
      "sycl::queue check - selected device:NVIDIA GeForce RTX 3060sycl time 2.26634 (s)\n",
      "sycl::queue check - selected device:NVIDIA GeForce RTX 3060sycl time 4.42792 (s)\n",
      "sycl::queue check - selected device:NVIDIA GeForce RTX 3060sycl time 4.46055 (s)\n",
      "sycl::queue check - selected device:NVIDIA GeForce RTX 3060sycl time 4.44497 (s)\n"
     ]
    }
   ],
   "source": [
    "timeoneapi, stdoneapi = run_benchmark(buildoneapi, sizes, nruns = 3, btype = 'sycl')"
   ]
  },
  {
   "cell_type": "code",
   "execution_count": 18,
   "id": "1cca8450",
   "metadata": {},
   "outputs": [
    {
     "data": {
      "text/plain": [
       "array('d', [0.0007053333333333333, 0.0011473333333333333, 0.006294333333333333, 0.05055166666666667, 0.24816833333333332, 0.4739933333333333, 2.241353333333333, 4.4444799999999995])"
      ]
     },
     "execution_count": 18,
     "metadata": {},
     "output_type": "execute_result"
    }
   ],
   "source": [
    "timeoneapi"
   ]
  },
  {
   "cell_type": "code",
   "execution_count": 19,
   "id": "0fbf0a91",
   "metadata": {},
   "outputs": [
    {
     "data": {
      "text/plain": [
       "array('d', [4.4342104395509066e-05, 8.947749561885505e-05, 0.00045249407608154255, 0.00021293243581526643, 0.0020442707474522207, 0.0014510066237692402, 0.0207944709531698, 0.0133256469511487])"
      ]
     },
     "execution_count": 19,
     "metadata": {},
     "output_type": "execute_result"
    }
   ],
   "source": [
    "stdoneapi"
   ]
  },
  {
   "cell_type": "code",
   "execution_count": 21,
   "id": "95635657",
   "metadata": {},
   "outputs": [
    {
     "name": "stdout",
     "output_type": "stream",
     "text": [
      "\u001b[;35m[hipSYCL Warning] \u001b[0mOpenCL device Intel(R) FPGA Emulation Device does not support Intel USM extensions; falling back to fine-grained system SVM. USM pointer info queries have limited support.\u001b[;35m[hipSYCL Warning] \u001b[0mOpenCL device NVIDIA GeForce RTX 3060 does not have a valid USM provider. Memory allocations are not possible on that device.sycl::queue check - selected device:NVIDIA GeForce RTX 3060sycl time 0.001059 (s)\n",
      "\u001b[;35m[hipSYCL Warning] \u001b[0mOpenCL device Intel(R) FPGA Emulation Device does not support Intel USM extensions; falling back to fine-grained system SVM. USM pointer info queries have limited support.\u001b[;35m[hipSYCL Warning] \u001b[0mOpenCL device NVIDIA GeForce RTX 3060 does not have a valid USM provider. Memory allocations are not possible on that device.sycl::queue check - selected device:NVIDIA GeForce RTX 3060sycl time 0.001082 (s)\n",
      "\u001b[;35m[hipSYCL Warning] \u001b[0mOpenCL device Intel(R) FPGA Emulation Device does not support Intel USM extensions; falling back to fine-grained system SVM. USM pointer info queries have limited support.\u001b[;35m[hipSYCL Warning] \u001b[0mOpenCL device NVIDIA GeForce RTX 3060 does not have a valid USM provider. Memory allocations are not possible on that device.sycl::queue check - selected device:NVIDIA GeForce RTX 3060sycl time 0.001169 (s)\n",
      "\u001b[;35m[hipSYCL Warning] \u001b[0mOpenCL device Intel(R) FPGA Emulation Device does not support Intel USM extensions; falling back to fine-grained system SVM. USM pointer info queries have limited support.\u001b[;35m[hipSYCL Warning] \u001b[0mOpenCL device NVIDIA GeForce RTX 3060 does not have a valid USM provider. Memory allocations are not possible on that device.sycl::queue check - selected device:NVIDIA GeForce RTX 3060sycl time 0.001128 (s)\n",
      "\u001b[;35m[hipSYCL Warning] \u001b[0mOpenCL device Intel(R) FPGA Emulation Device does not support Intel USM extensions; falling back to fine-grained system SVM. USM pointer info queries have limited support.\u001b[;35m[hipSYCL Warning] \u001b[0mOpenCL device NVIDIA GeForce RTX 3060 does not have a valid USM provider. Memory allocations are not possible on that device.sycl::queue check - selected device:NVIDIA GeForce RTX 3060sycl time 0.001159 (s)\n",
      "\u001b[;35m[hipSYCL Warning] \u001b[0mOpenCL device Intel(R) FPGA Emulation Device does not support Intel USM extensions; falling back to fine-grained system SVM. USM pointer info queries have limited support.\u001b[;35m[hipSYCL Warning] \u001b[0mOpenCL device NVIDIA GeForce RTX 3060 does not have a valid USM provider. Memory allocations are not possible on that device.sycl::queue check - selected device:NVIDIA GeForce RTX 3060sycl time 0.001239 (s)\n",
      "\u001b[;35m[hipSYCL Warning] \u001b[0mOpenCL device Intel(R) FPGA Emulation Device does not support Intel USM extensions; falling back to fine-grained system SVM. USM pointer info queries have limited support.\u001b[;35m[hipSYCL Warning] \u001b[0mOpenCL device NVIDIA GeForce RTX 3060 does not have a valid USM provider. Memory allocations are not possible on that device.sycl::queue check - selected device:NVIDIA GeForce RTX 3060sycl time 0.002863 (s)\n",
      "\u001b[;35m[hipSYCL Warning] \u001b[0mOpenCL device Intel(R) FPGA Emulation Device does not support Intel USM extensions; falling back to fine-grained system SVM. USM pointer info queries have limited support.\u001b[;35m[hipSYCL Warning] \u001b[0mOpenCL device NVIDIA GeForce RTX 3060 does not have a valid USM provider. Memory allocations are not possible on that device.sycl::queue check - selected device:NVIDIA GeForce RTX 3060sycl time 0.002931 (s)\n",
      "\u001b[;35m[hipSYCL Warning] \u001b[0mOpenCL device Intel(R) FPGA Emulation Device does not support Intel USM extensions; falling back to fine-grained system SVM. USM pointer info queries have limited support.\u001b[;35m[hipSYCL Warning] \u001b[0mOpenCL device NVIDIA GeForce RTX 3060 does not have a valid USM provider. Memory allocations are not possible on that device.sycl::queue check - selected device:NVIDIA GeForce RTX 3060sycl time 0.003303 (s)\n",
      "\u001b[;35m[hipSYCL Warning] \u001b[0mOpenCL device Intel(R) FPGA Emulation Device does not support Intel USM extensions; falling back to fine-grained system SVM. USM pointer info queries have limited support.\u001b[;35m[hipSYCL Warning] \u001b[0mOpenCL device NVIDIA GeForce RTX 3060 does not have a valid USM provider. Memory allocations are not possible on that device.sycl::queue check - selected device:NVIDIA GeForce RTX 3060sycl time 0.018455 (s)\n",
      "\u001b[;35m[hipSYCL Warning] \u001b[0mOpenCL device Intel(R) FPGA Emulation Device does not support Intel USM extensions; falling back to fine-grained system SVM. USM pointer info queries have limited support.\u001b[;35m[hipSYCL Warning] \u001b[0mOpenCL device NVIDIA GeForce RTX 3060 does not have a valid USM provider. Memory allocations are not possible on that device.sycl::queue check - selected device:NVIDIA GeForce RTX 3060sycl time 0.018679 (s)\n",
      "\u001b[;35m[hipSYCL Warning] \u001b[0mOpenCL device Intel(R) FPGA Emulation Device does not support Intel USM extensions; falling back to fine-grained system SVM. USM pointer info queries have limited support.\u001b[;35m[hipSYCL Warning] \u001b[0mOpenCL device NVIDIA GeForce RTX 3060 does not have a valid USM provider. Memory allocations are not possible on that device.sycl::queue check - selected device:NVIDIA GeForce RTX 3060sycl time 0.020664 (s)\n",
      "\u001b[;35m[hipSYCL Warning] \u001b[0mOpenCL device Intel(R) FPGA Emulation Device does not support Intel USM extensions; falling back to fine-grained system SVM. USM pointer info queries have limited support.\u001b[;35m[hipSYCL Warning] \u001b[0mOpenCL device NVIDIA GeForce RTX 3060 does not have a valid USM provider. Memory allocations are not possible on that device.sycl::queue check - selected device:NVIDIA GeForce RTX 3060sycl time 0.085408 (s)\n",
      "\u001b[;35m[hipSYCL Warning] \u001b[0mOpenCL device Intel(R) FPGA Emulation Device does not support Intel USM extensions; falling back to fine-grained system SVM. USM pointer info queries have limited support.\u001b[;35m[hipSYCL Warning] \u001b[0mOpenCL device NVIDIA GeForce RTX 3060 does not have a valid USM provider. Memory allocations are not possible on that device.sycl::queue check - selected device:NVIDIA GeForce RTX 3060sycl time 0.082961 (s)\n",
      "\u001b[;35m[hipSYCL Warning] \u001b[0mOpenCL device Intel(R) FPGA Emulation Device does not support Intel USM extensions; falling back to fine-grained system SVM. USM pointer info queries have limited support.\u001b[;35m[hipSYCL Warning] \u001b[0mOpenCL device NVIDIA GeForce RTX 3060 does not have a valid USM provider. Memory allocations are not possible on that device.sycl::queue check - selected device:NVIDIA GeForce RTX 3060sycl time 0.08352 (s)\n",
      "\u001b[;35m[hipSYCL Warning] \u001b[0mOpenCL device Intel(R) FPGA Emulation Device does not support Intel USM extensions; falling back to fine-grained system SVM. USM pointer info queries have limited support.\u001b[;35m[hipSYCL Warning] \u001b[0mOpenCL device NVIDIA GeForce RTX 3060 does not have a valid USM provider. Memory allocations are not possible on that device.sycl::queue check - selected device:NVIDIA GeForce RTX 3060sycl time 0.158093 (s)\n",
      "\u001b[;35m[hipSYCL Warning] \u001b[0mOpenCL device Intel(R) FPGA Emulation Device does not support Intel USM extensions; falling back to fine-grained system SVM. USM pointer info queries have limited support.\u001b[;35m[hipSYCL Warning] \u001b[0mOpenCL device NVIDIA GeForce RTX 3060 does not have a valid USM provider. Memory allocations are not possible on that device.sycl::queue check - selected device:NVIDIA GeForce RTX 3060sycl time 0.154789 (s)\n",
      "\u001b[;35m[hipSYCL Warning] \u001b[0mOpenCL device Intel(R) FPGA Emulation Device does not support Intel USM extensions; falling back to fine-grained system SVM. USM pointer info queries have limited support.\u001b[;35m[hipSYCL Warning] \u001b[0mOpenCL device NVIDIA GeForce RTX 3060 does not have a valid USM provider. Memory allocations are not possible on that device.sycl::queue check - selected device:NVIDIA GeForce RTX 3060sycl time 0.154709 (s)\n",
      "\u001b[;35m[hipSYCL Warning] \u001b[0mOpenCL device Intel(R) FPGA Emulation Device does not support Intel USM extensions; falling back to fine-grained system SVM. USM pointer info queries have limited support.\u001b[;35m[hipSYCL Warning] \u001b[0mOpenCL device NVIDIA GeForce RTX 3060 does not have a valid USM provider. Memory allocations are not possible on that device.sycl::queue check - selected device:NVIDIA GeForce RTX 3060sycl time 0.740174 (s)\n"
     ]
    },
    {
     "name": "stdout",
     "output_type": "stream",
     "text": [
      "\u001b[;35m[hipSYCL Warning] \u001b[0mOpenCL device Intel(R) FPGA Emulation Device does not support Intel USM extensions; falling back to fine-grained system SVM. USM pointer info queries have limited support.\u001b[;35m[hipSYCL Warning] \u001b[0mOpenCL device NVIDIA GeForce RTX 3060 does not have a valid USM provider. Memory allocations are not possible on that device.sycl::queue check - selected device:NVIDIA GeForce RTX 3060sycl time 0.739556 (s)\n",
      "\u001b[;35m[hipSYCL Warning] \u001b[0mOpenCL device Intel(R) FPGA Emulation Device does not support Intel USM extensions; falling back to fine-grained system SVM. USM pointer info queries have limited support.\u001b[;35m[hipSYCL Warning] \u001b[0mOpenCL device NVIDIA GeForce RTX 3060 does not have a valid USM provider. Memory allocations are not possible on that device.sycl::queue check - selected device:NVIDIA GeForce RTX 3060sycl time 0.73637 (s)\n",
      "\u001b[;35m[hipSYCL Warning] \u001b[0mOpenCL device Intel(R) FPGA Emulation Device does not support Intel USM extensions; falling back to fine-grained system SVM. USM pointer info queries have limited support.\u001b[;35m[hipSYCL Warning] \u001b[0mOpenCL device NVIDIA GeForce RTX 3060 does not have a valid USM provider. Memory allocations are not possible on that device.sycl::queue check - selected device:NVIDIA GeForce RTX 3060sycl time 1.50635 (s)\n",
      "\u001b[;35m[hipSYCL Warning] \u001b[0mOpenCL device Intel(R) FPGA Emulation Device does not support Intel USM extensions; falling back to fine-grained system SVM. USM pointer info queries have limited support.\u001b[;35m[hipSYCL Warning] \u001b[0mOpenCL device NVIDIA GeForce RTX 3060 does not have a valid USM provider. Memory allocations are not possible on that device.sycl::queue check - selected device:NVIDIA GeForce RTX 3060sycl time 1.51458 (s)\n",
      "\u001b[;35m[hipSYCL Warning] \u001b[0mOpenCL device Intel(R) FPGA Emulation Device does not support Intel USM extensions; falling back to fine-grained system SVM. USM pointer info queries have limited support.\u001b[;35m[hipSYCL Warning] \u001b[0mOpenCL device NVIDIA GeForce RTX 3060 does not have a valid USM provider. Memory allocations are not possible on that device.sycl::queue check - selected device:NVIDIA GeForce RTX 3060sycl time 1.48938 (s)\n"
     ]
    }
   ],
   "source": [
    "timeopensycl, stdopensycl = run_benchmark(buildopensycl, sizes,  nruns = 3, btype = 'sycl')"
   ]
  },
  {
   "cell_type": "code",
   "execution_count": null,
   "id": "2a274fc1",
   "metadata": {},
   "outputs": [],
   "source": [
    "stdopensycl "
   ]
  },
  {
   "cell_type": "code",
   "execution_count": 24,
   "id": "219f12c3",
   "metadata": {},
   "outputs": [
    {
     "name": "stdout",
     "output_type": "stream",
     "text": [
      "cuda time 0.071051 (s)\n",
      "cuda time 0.062551 (s)\n",
      "cuda time 0.085325 (s)\n",
      "cuda time 0.06265 (s)\n",
      "cuda time 0.078449 (s)\n",
      "cuda time 0.063287 (s)\n",
      "cuda time 0.079951 (s)\n",
      "cuda time 0.064985 (s)\n",
      "cuda time 0.065726 (s)\n",
      "cuda time 0.079645 (s)\n",
      "cuda time 0.080007 (s)\n",
      "cuda time 0.081556 (s)\n",
      "cuda time 0.124116 (s)\n",
      "cuda time 0.131057 (s)\n",
      "cuda time 0.126976 (s)\n",
      "cuda time 0.181688 (s)\n",
      "cuda time 0.177855 (s)\n",
      "cuda time 0.176971 (s)\n",
      "cuda time 0.637614 (s)\n",
      "cuda time 0.62171 (s)\n",
      "cuda time 0.620455 (s)\n",
      "cuda time 1.15841 (s)\n",
      "cuda time 1.17307 (s)\n",
      "cuda time 1.15798 (s)\n"
     ]
    }
   ],
   "source": [
    "timecuda, stdcuda = run_benchmark(buildcuda, sizes, nruns = 3, btype = 'cuda')"
   ]
  },
  {
   "cell_type": "code",
   "execution_count": null,
   "id": "653e4718",
   "metadata": {},
   "outputs": [],
   "source": [
    "timecuda"
   ]
  },
  {
   "cell_type": "code",
   "execution_count": 25,
   "id": "85426fcd",
   "metadata": {},
   "outputs": [],
   "source": [
    "speedupopensycl = array('d', [timecpu[i]/timeopensycl[i] for i in range(n)])\n",
    "speeduponeapi   = array('d', [timecpu[i]/timeoneapi[i] for i in range(n)])\n",
    "speedupcuda     = array('d', [timecpu[i]/timecuda[i] for i in range(n)])"
   ]
  },
  {
   "cell_type": "code",
   "execution_count": null,
   "id": "38b077ba",
   "metadata": {},
   "outputs": [],
   "source": []
  },
  {
   "cell_type": "code",
   "execution_count": null,
   "id": "165a27f9",
   "metadata": {},
   "outputs": [],
   "source": [
    "val = list(sizes)\n",
    "sizes_gb = [v*8*4/1e9 for v in val]\n",
    "sizes_gb = array('d', sizes_gb)\n",
    "sizes_gb"
   ]
  },
  {
   "cell_type": "code",
   "execution_count": null,
   "id": "1e93cd2d",
   "metadata": {},
   "outputs": [],
   "source": [
    "p = ROOT.TGraph(len(sizes), sizes, speedupopensycl)\n",
    "g = ROOT.TGraph(len(sizes), sizes, speeduponeapi)\n",
    "q = ROOT.TGraph(len(sizes), sizes, speedupcuda)\n",
    "\n",
    "\n",
    "c4 = ROOT.TCanvas()\n",
    "g.SetMarkerStyle(7)\n",
    "g.SetLineColor(ROOT.kBlue)\n",
    "p.SetMarkerStyle(5)\n",
    "p.SetLineColor(ROOT.kRed)\n",
    "q.SetMarkerStyle(3)\n",
    "q.SetLineColor(ROOT.kGreen)\n",
    "\n",
    "\n",
    "q.SetTitle(\"Speedup wrt RVec\")\n",
    "q.GetXaxis().SetTitle( 'Input size (# doubles)' )\n",
    "q.GetYaxis().SetTitle( 'Speedup' )\n",
    "\n",
    "p.GetYaxis().SetRangeUser(0,6)\n",
    "\n",
    "leg = ROOT.TLegend(0.7, 0.75, 0.30, 0.87)\n",
    "leg.AddEntry(p,\"OpenSYCL\",\"L\")\n",
    "leg.AddEntry(g,\"OneAPI\",\"L\")\n",
    "leg.AddEntry(q,\"CUDA\",\"L\")\n",
    "\n",
    "\n",
    "c4.SetLogx();\n",
    "\n",
    "q.Draw()\n",
    "g.Draw('LP')\n",
    "p.Draw('LP')\n",
    "leg.Draw()\n",
    "c4.Draw()\n",
    "\n",
    "c4.SaveAs(\"speedup.png\")"
   ]
  },
  {
   "cell_type": "code",
   "execution_count": null,
   "id": "4603368b",
   "metadata": {},
   "outputs": [],
   "source": [
    "p = ROOT.TGraphErrors(len(sizes), sizes, timeopensycl, stdopensycl)\n",
    "g = ROOT.TGraphErrors(len(sizes), sizes, timeoneapi, stdoneapi)\n",
    "q = ROOT.TGraphErrors(len(sizes), sizes, timecuda, stdcuda)\n",
    "r = ROOT.TGraphErrors(len(sizes), sizes, timecpu, stdcpu)\n",
    "\n",
    "\n",
    "c4 = ROOT.TCanvas()\n",
    "g.SetLineColor(ROOT.kBlue)\n",
    "p.SetLineColor(ROOT.kRed)\n",
    "q.SetLineColor(ROOT.kGreen)\n",
    "\n",
    "\n",
    "r.SetTitle(\"Execution times\")\n",
    "r.GetXaxis().SetTitle( 'Input size (# doubles)' )\n",
    "r.GetYaxis().SetTitle( 'Time (s)' )\n",
    "\n",
    "p.GetYaxis().SetRangeUser(0,6)\n",
    "\n",
    "leg = ROOT.TLegend(0.7, 0.75, 0.30, 0.87)\n",
    "leg.AddEntry(r,\"RVec\",\"L\")\n",
    "leg.AddEntry(p,\"OpenSYCL\",\"L\")\n",
    "leg.AddEntry(g,\"OneAPI\",\"L\")\n",
    "leg.AddEntry(q,\"CUDA\",\"L\")\n",
    "\n",
    "c4.SetLogy();\n",
    "c4.SetLogx();\n",
    "\n",
    "r.Draw()\n",
    "q.Draw('LP')\n",
    "g.Draw('LP')\n",
    "p.Draw('LP')\n",
    "leg.Draw()\n",
    "c4.Draw()\n",
    "\n",
    "c4.SaveAs(\"exectimes.png\")"
   ]
  },
  {
   "cell_type": "code",
   "execution_count": null,
   "id": "255a5539",
   "metadata": {},
   "outputs": [],
   "source": []
  }
 ],
 "metadata": {
  "kernelspec": {
   "display_name": "Python 3 (ipykernel)",
   "language": "python",
   "name": "python3"
  },
  "language_info": {
   "codemirror_mode": {
    "name": "ipython",
    "version": 3
   },
   "file_extension": ".py",
   "mimetype": "text/x-python",
   "name": "python",
   "nbconvert_exporter": "python",
   "pygments_lexer": "ipython3",
   "version": "3.10.12"
  }
 },
 "nbformat": 4,
 "nbformat_minor": 5
}
